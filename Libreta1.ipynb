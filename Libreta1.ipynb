{
 "cells": [
  {
   "attachments": {},
   "cell_type": "markdown",
   "metadata": {},
   "source": [
    "#EJERCICIO 1"
   ]
  },
  {
   "cell_type": "code",
   "execution_count": 1,
   "metadata": {},
   "outputs": [
    {
     "name": "stdout",
     "output_type": "stream",
     "text": [
      "2\n",
      "3\n",
      "\n",
      "50\n",
      "3.0\n"
     ]
    }
   ],
   "source": [
    "#PARA VISUALIZAR MAS RESULTADOS SE AGREGA LA FUNCION PRINT\n",
    "#OPERACIONES ARITMETICAS\n",
    "#SUMA\n",
    "print(1+1)\n",
    "#RESTA\n",
    "print(10-7)\n",
    "print() #salto de linea\n",
    "#MULTIPLICACION\n",
    "print(10*5)\n",
    "#DIVISION\n",
    "print(9/3)"
   ]
  }
 ],
 "metadata": {
  "kernelspec": {
   "display_name": "Python 3",
   "language": "python",
   "name": "python3"
  },
  "language_info": {
   "codemirror_mode": {
    "name": "ipython",
    "version": 3
   },
   "file_extension": ".py",
   "mimetype": "text/x-python",
   "name": "python",
   "nbconvert_exporter": "python",
   "pygments_lexer": "ipython3",
   "version": "3.10.4"
  },
  "orig_nbformat": 4
 },
 "nbformat": 4,
 "nbformat_minor": 2
}
